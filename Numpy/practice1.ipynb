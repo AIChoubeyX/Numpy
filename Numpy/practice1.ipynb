{
 "cells": [
  {
   "cell_type": "markdown",
   "id": "46f35230",
   "metadata": {},
   "source": [
    "#### Validity of sudoku(sum of each element of a row or column must be 45)"
   ]
  },
  {
   "cell_type": "code",
   "execution_count": 4,
   "id": "b69604d7",
   "metadata": {},
   "outputs": [],
   "source": [
    "import numpy as np\n",
    "s = np.array([\n",
    "    [5, 3, 4, 6, 7, 8, 9, 1, 2],\n",
    "    [6, 7, 2, 1, 9, 5, 3, 4, 8],\n",
    "    [1, 9, 8, 3, 4, 2, 5, 6, 7],\n",
    "    \n",
    "    [8, 5, 9, 7, 6, 1, 4, 2, 3],\n",
    "    [4, 2, 6, 8, 5, 3, 7, 9, 1],\n",
    "    [7, 1, 3, 9, 2, 4, 8, 5, 6],\n",
    "    \n",
    "    [9, 6, 1, 5, 3, 7, 2, 8, 4],\n",
    "    [2, 8, 7, 4, 1, 9, 6, 3, 5],\n",
    "    [3, 4, 5, 2, 8, 6, 1, 7, 9]\n",
    "])"
   ]
  },
  {
   "cell_type": "code",
   "execution_count": 6,
   "id": "16e1a986",
   "metadata": {},
   "outputs": [
    {
     "name": "stdout",
     "output_type": "stream",
     "text": [
      "sudoku is valid\n"
     ]
    }
   ],
   "source": [
    "\n",
    "b =  np.sum(s, axis=0)\n",
    "for i in b:\n",
    "    if i != 45:\n",
    "        print(\"sudoku is invalid \")\n",
    "        break\n",
    "    else:\n",
    "        print(\"sudoku is valid\")\n",
    "        break"
   ]
  },
  {
   "cell_type": "code",
   "execution_count": null,
   "id": "b5494cf4",
   "metadata": {},
   "outputs": [
    {
     "name": "stdout",
     "output_type": "stream",
     "text": [
      "sudoku is valid column wise\n"
     ]
    }
   ],
   "source": [
    "b =  np.sum(s, axis=0)\n",
    "for i in b:\n",
    "    if i != 45:\n",
    "        print(\"sudoku is invalid \")\n",
    "        break\n",
    "    else:\n",
    "        print(\"sudoku is valid column\")\n",
    "        break"
   ]
  },
  {
   "cell_type": "code",
   "execution_count": 13,
   "id": "0960a8de",
   "metadata": {},
   "outputs": [
    {
     "name": "stdout",
     "output_type": "stream",
     "text": [
      "sudoku is valid subgrid\n"
     ]
    }
   ],
   "source": [
    "for i in range(0, 9, 3):\n",
    "    for j in range(0, 9, 3):\n",
    "        subgrid = s[i:i+3, j:j+3]\n",
    "        if np.sum(subgrid) != 45:\n",
    "            print(\"sudoku is invalid subgrid\")\n",
    "            break\n",
    "    else:\n",
    "        print(\"sudoku is valid subgrid\")\n",
    "        break\n",
    "       \n",
    "    "
   ]
  },
  {
   "cell_type": "code",
   "execution_count": 14,
   "metadata": {},
   "outputs": [],
   "source": [
    "import numpy as np\n",
    "\n",
    "# Columns: [Age, Math Marks, Science Marks]\n",
    "data = np.array([\n",
    "    [18, 85, 78],   # Student 1\n",
    "    [19, 92, 88],   # Student 2\n",
    "    [17, 76, 95],   # Student 3\n",
    "    [18, 65, 70],   # Student 4\n",
    "    [20, 90, 85]    # Student 5\n",
    "])"
   ]
  },
  {
   "cell_type": "code",
   "execution_count": 15,
   "id": "0a3ddeef",
   "metadata": {},
   "outputs": [
    {
     "name": "stdout",
     "output_type": "stream",
     "text": [
      "Shape of the matrix: (5, 3)\n"
     ]
    }
   ],
   "source": [
    "#Get the shape of the matrix.\n",
    "shape = data.shape\n",
    "print(\"Shape of the matrix:\", shape)"
   ]
  },
  {
   "cell_type": "code",
   "execution_count": 16,
   "metadata": {},
   "outputs": [
    {
     "name": "stdout",
     "output_type": "stream",
     "text": [
      "Average age of students: 18.4\n"
     ]
    }
   ],
   "source": [
    "#Find the average age of students\n",
    "avg_age = np.mean(data[:, 0])  # Average age is in the first column\n",
    "print(\"Average age of students:\", avg_age)\n"
   ]
  },
  {
   "cell_type": "code",
   "execution_count": 17,
   "metadata": {},
   "outputs": [
    {
     "name": "stdout",
     "output_type": "stream",
     "text": [
      "Math marks of all students: [85 92 76 65 90]\n"
     ]
    }
   ],
   "source": [
    "#Extract Math marks of all students.\n",
    "maths_marks = data[:, 1]  # Math marks are in the second column\n",
    "print(\"Math marks of all students:\", maths_marks)"
   ]
  },
  {
   "cell_type": "code",
   "execution_count": 18,
   "metadata": {},
   "outputs": [
    {
     "name": "stdout",
     "output_type": "stream",
     "text": [
      "Highest Science mark: 95\n"
     ]
    }
   ],
   "source": [
    "#Find the highest Science mark.\n",
    "highest_science_mark = np.max(data[:, 2])  # Science marks are in the third column\n",
    "print(\"Highest Science mark:\", highest_science_mark)"
   ]
  },
  {
   "cell_type": "code",
   "execution_count": 19,
   "metadata": {},
   "outputs": [
    {
     "name": "stdout",
     "output_type": "stream",
     "text": [
      "Details of students who scored more than 90 in Math:\n",
      "[[19 92 88]]\n"
     ]
    }
   ],
   "source": [
    "#Get details of the student who scored more than 90 in Math.\n",
    "data_above_90_math = data[data[:, 1] > 90]  # Filter students with Math marks > 90\n",
    "if data_above_90_math.size > 0:\n",
    "    print(\"Details of students who scored more than 90 in Math:\")\n",
    "    print(data_above_90_math)"
   ]
  },
  {
   "cell_type": "code",
   "execution_count": null,
   "metadata": {},
   "outputs": [],
   "source": [
    "#Increase Math marks of all students by 5.\n"
   ]
  },
  {
   "cell_type": "code",
   "execution_count": null,
   "metadata": {},
   "outputs": [],
   "source": [
    "#Find how many students are younger than 19.\n"
   ]
  },
  {
   "cell_type": "code",
   "execution_count": null,
   "id": "1bc3cab4",
   "metadata": {},
   "outputs": [],
   "source": [
    "#Calculate the average marks in each subject (column-wise mean).\n"
   ]
  },
  {
   "cell_type": "code",
   "execution_count": null,
   "metadata": {},
   "outputs": [],
   "source": [
    "#Get data of students who scored at least 80 in both subjects.\n"
   ]
  },
  {
   "cell_type": "code",
   "execution_count": null,
   "metadata": {},
   "outputs": [],
   "source": [
    "#Replace all Science marks < 75 with 0."
   ]
  },
  {
   "cell_type": "code",
   "execution_count": null,
   "id": "e0bec4c1",
   "metadata": {},
   "outputs": [],
   "source": []
  }
 ],
 "metadata": {
  "kernelspec": {
   "display_name": "Python 3",
   "language": "python",
   "name": "python3"
  },
  "language_info": {
   "codemirror_mode": {
    "name": "ipython",
    "version": 3
   },
   "file_extension": ".py",
   "mimetype": "text/x-python",
   "name": "python",
   "nbconvert_exporter": "python",
   "pygments_lexer": "ipython3",
   "version": "3.12.5"
  }
 },
 "nbformat": 4,
 "nbformat_minor": 5
}
