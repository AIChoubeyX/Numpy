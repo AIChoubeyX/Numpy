{
 "cells": [
  {
   "cell_type": "markdown",
   "metadata": {},
   "source": [
    "## Numpy array operations"
   ]
  },
  {
   "cell_type": "code",
   "execution_count": null,
   "metadata": {},
   "outputs": [],
   "source": [
    "import numpy as np\n"
   ]
  },
  {
   "cell_type": "code",
   "execution_count": 8,
   "metadata": {},
   "outputs": [
    {
     "name": "stdout",
     "output_type": "stream",
     "text": [
      "basic slicing [2 3 4 5]\n",
      "With step [2 4]\n"
     ]
    }
   ],
   "source": [
    "arr = np.array([1, 2, 3, 4, 5, 6, 7, 8, 9, 10])\n",
    "print(\"basic slicing\" , arr[1:5])\n",
    "print(\"With step\" , arr[1:5:2])"
   ]
  },
  {
   "cell_type": "markdown",
   "metadata": {},
   "source": [
    "#### 2d arrray"
   ]
  },
  {
   "cell_type": "code",
   "execution_count": 12,
   "metadata": {},
   "outputs": [
    {
     "name": "stdout",
     "output_type": "stream",
     "text": [
      "Specific element 6\n",
      "Row slicing [4 5 6]\n",
      "Column slicing [2 5 8]\n"
     ]
    }
   ],
   "source": [
    "arr_2d = np.array([[1, 2, 3], [4, 5, 6], [7, 8, 9]])\n",
    "print(\"Specific element\" , arr_2d[1, 2])\n",
    "print(\"Row slicing\" , arr_2d[1])\n",
    "print(\"Column slicing\" , arr_2d[:,1])"
   ]
  },
  {
   "cell_type": "markdown",
   "metadata": {},
   "source": [
    "#### sorting"
   ]
  },
  {
   "cell_type": "code",
   "execution_count": 16,
   "metadata": {},
   "outputs": [
    {
     "name": "stdout",
     "output_type": "stream",
     "text": [
      "sorted array [1 2 3 4 5]\n",
      "sorted array [[3 1 2]\n",
      " [5 4 6]\n",
      " [7 8 9]]\n"
     ]
    }
   ],
   "source": [
    "unsorted = np.array([3, 1, 2, 5, 4])\n",
    "print(\"sorted array\" ,np.sort( unsorted))\n",
    "\n",
    "arr_2d = np.array([[3, 1, 2], [5, 4, 6], [7, 8, 9]])\n",
    "print(\"sorted array\" ,np.sort( arr_2d, axis=0)) # sort by column"
   ]
  },
  {
   "cell_type": "markdown",
   "metadata": {},
   "source": [
    "### Filtering in arrays"
   ]
  },
  {
   "cell_type": "code",
   "execution_count": 17,
   "metadata": {},
   "outputs": [
    {
     "name": "stdout",
     "output_type": "stream",
     "text": [
      "even numbers [ 2  4  6  8 10]\n"
     ]
    }
   ],
   "source": [
    "numbers = np.array([1, 2, 3, 4, 5, 6, 7, 8, 9, 10])\n",
    "even_numbers = numbers[numbers % 2 == 0]\n",
    "print(\"even numbers\" , even_numbers)"
   ]
  },
  {
   "cell_type": "markdown",
   "metadata": {},
   "source": [
    "### Filter with mask"
   ]
  },
  {
   "cell_type": "code",
   "execution_count": 18,
   "metadata": {},
   "outputs": [
    {
     "name": "stdout",
     "output_type": "stream",
     "text": [
      "Numbers greater than 5 are [ 6  7  8  9 10]\n"
     ]
    }
   ],
   "source": [
    "mask = numbers>5\n",
    "print(\"Numbers greater than 5 are\" , numbers[mask])\n"
   ]
  },
  {
   "cell_type": "markdown",
   "metadata": {},
   "source": [
    "## Fancy indexing vs np.where()"
   ]
  },
  {
   "cell_type": "code",
   "execution_count": 21,
   "metadata": {},
   "outputs": [
    {
     "name": "stdout",
     "output_type": "stream",
     "text": [
      "Using indices [1 4 6]\n",
      "(array([5, 6, 7, 8, 9]),)\n",
      "Using where [ 6  7  8  9 10]\n"
     ]
    }
   ],
   "source": [
    "indices = [0,3,5]\n",
    "print(\"Using indices\" , numbers[indices])\n",
    "where_result = np.where(numbers > 5)\n",
    "print(where_result) # returns a tuple of arrays\n",
    "print(\"Using where\" , numbers[where_result])"
   ]
  },
  {
   "cell_type": "code",
   "execution_count": 23,
   "metadata": {},
   "outputs": [
    {
     "name": "stdout",
     "output_type": "stream",
     "text": [
      "Using where with condition [ 1  2  3  4  5 24 28 32 36 40]\n"
     ]
    }
   ],
   "source": [
    "condition_array = np.where(numbers > 5, numbers*4, numbers)\n",
    "print(\"Using where with condition\" , condition_array)"
   ]
  },
  {
   "cell_type": "markdown",
   "metadata": {},
   "source": [
    "### Adding and removing data"
   ]
  },
  {
   "cell_type": "code",
   "execution_count": 2,
   "metadata": {},
   "outputs": [
    {
     "name": "stdout",
     "output_type": "stream",
     "text": [
      "concatenated array [1 2 3 4 5 6]\n"
     ]
    }
   ],
   "source": [
    "import numpy as np\n",
    "arr1 = np.array([1, 2, 3])\n",
    "arr2 = np.array([4, 5, 6])\n",
    "combined = np.concatenate((arr1, arr2))\n",
    "print(\"concatenated array\" , combined)"
   ]
  },
  {
   "cell_type": "markdown",
   "metadata": {},
   "source": [
    "#### Array compatibility"
   ]
  },
  {
   "cell_type": "code",
   "execution_count": 3,
   "metadata": {},
   "outputs": [
    {
     "name": "stdout",
     "output_type": "stream",
     "text": [
      "compatibility check True\n"
     ]
    }
   ],
   "source": [
    "a = np.array([1,2,3])\n",
    "b = np.array([4,5,6])\n",
    "c = np.array([7,8,9])\n",
    "print(\"compatibility check\" , a.shape == b.shape == c.shape)"
   ]
  },
  {
   "cell_type": "code",
   "execution_count": 6,
   "metadata": {},
   "outputs": [
    {
     "name": "stdout",
     "output_type": "stream",
     "text": [
      "original_array [[1 2]\n",
      " [3 4]\n",
      " [5 6]]\n",
      "Vertical stacking [[1 2]\n",
      " [3 4]\n",
      " [5 6]\n",
      " [7 8]]\n",
      "Horizontal stacking [[ 1  2  9]\n",
      " [ 3  4 10]\n",
      " [ 5  6 11]]\n"
     ]
    }
   ],
   "source": [
    "original_array = np.array([[1, 2], [3, 4], [5, 6]])\n",
    "new_row = np.array([[7, 8]])\n",
    "combined_array = np.vstack((original_array, new_row))\n",
    "new_col = np.array([[9], [10], [11]])\n",
    "combined_array2 = np.hstack((original_array, new_col))\n",
    "print(\"original_array\" , original_array)\n",
    "print(\"Vertical stacking\" , combined_array)\n",
    "print(\"Horizontal stacking\" , combined_array2)"
   ]
  }
 ],
 "metadata": {
  "kernelspec": {
   "display_name": "Python 3",
   "language": "python",
   "name": "python3"
  },
  "language_info": {
   "codemirror_mode": {
    "name": "ipython",
    "version": 3
   },
   "file_extension": ".py",
   "mimetype": "text/x-python",
   "name": "python",
   "nbconvert_exporter": "python",
   "pygments_lexer": "ipython3",
   "version": "3.12.5"
  }
 },
 "nbformat": 4,
 "nbformat_minor": 2
}
