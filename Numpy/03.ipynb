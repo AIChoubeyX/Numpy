{
 "cells": [
  {
   "cell_type": "markdown",
   "id": "3a4b219d",
   "metadata": {},
   "source": [
    "#### Data structure : [resturent_id, 2021, 2022, 2023, 2024]"
   ]
  },
  {
   "cell_type": "code",
   "execution_count": null,
   "id": "c4f9c97c",
   "metadata": {},
   "outputs": [],
   "source": [
    "import numpy as np\n",
    "import matplotlib.pyplot as plt"
   ]
  },
  {
   "cell_type": "code",
   "execution_count": 10,
   "id": "dc56bad4",
   "metadata": {},
   "outputs": [
    {
     "name": "stdout",
     "output_type": "stream",
     "text": [
      "=== Zomato sales data ===\n",
      "\n",
      " sales data shape (5, 5)\n",
      "\n",
      " Sales data for 1st three resturants [[    1 15000 18000 20000  5000]\n",
      " [    2 12000 16000 19000 23000]\n",
      " [    3 17000 20000 22000 26000]]\n"
     ]
    }
   ],
   "source": [
    "import numpy as np\n",
    "sales_data = np.array([\n",
    "    [1, 15000, 18000, 20000, 5000], #paradise biryani\n",
    "    [2, 12000, 16000, 19000, 23000], #bejing bites\n",
    "    [3, 17000, 20000, 22000, 26000], #pizza hub\n",
    "    [4, 13000, 17000, 21000, 24000], #burger point\n",
    "    [5, 14000, 19000, 23000, 27000], #chai point\n",
    "])\n",
    "\n",
    "print(\"=== Zomato sales data ===\")\n",
    "print(\"\\n sales data shape\", sales_data.shape)\n",
    "print(\"\\n Sales data for 1st three resturants\" , sales_data[:3])"
   ]
  },
  {
   "cell_type": "markdown",
   "id": "599c4902",
   "metadata": {},
   "source": [
    "### Total sales per year"
   ]
  },
  {
   "cell_type": "code",
   "execution_count": null,
   "id": "4bf02d6e",
   "metadata": {},
   "outputs": [
    {
     "name": "stdout",
     "output_type": "stream",
     "text": [
      "[    15  71000  90000 105000 105000]\n",
      "[ 71000  90000 105000 105000]\n",
      "\n",
      " Minimum sales per restaurant [ 5000 12000 17000 13000 14000]\n",
      "\n",
      " Maximum sales per restaurant [17000 20000 23000 27000]\n"
     ]
    }
   ],
   "source": [
    "print(np.sum(sales_data, axis=0)) #sum of sales data for all resturants\n",
    "yearly_total = print(np.sum(sales_data[:, 1:], axis=0)) #sum of sales data for all resturants\n",
    "\n",
    "#minmum sales per resturent\n",
    "print(\"\\n Minimum sales per restaurant\", np.min(sales_data[:, 1:], axis=1))\n",
    "\n",
    "#maximum sales per resturent\n",
    "print(\"\\n Maximum sales per restaurant\", np.max(sales_data[:, 1:], axis=0))\n",
    "\n",
    "#average sales per resturent\n",
    "print(\"\\n Average sales per restaurant\", np.mean(sales_data[:, 1:], axis=1))"
   ]
  },
  {
   "cell_type": "code",
   "execution_count": 5,
   "id": "a4ded157",
   "metadata": {},
   "outputs": [
    {
     "name": "stdout",
     "output_type": "stream",
     "text": [
      "\n",
      " Vector1 + Vector2 =  [5 7 9]\n",
      "\n",
      " Vector1 - Vector2 =  [-3 -3 -3]\n",
      "\n",
      " Vector1 * Vector2 =  [ 4 10 18]\n",
      "\n",
      " Vector1 / Vector2 =  [0.25 0.4  0.5 ]\n",
      "\n",
      " Angle between vector1 and vector2 =  0.2257261285527342\n"
     ]
    }
   ],
   "source": [
    "import numpy as np;\n",
    "vector1= np.array([1, 2, 3])\n",
    "vector2= np.array([4, 5, 6])\n",
    "\n",
    "print(\"\\n Vector1 + Vector2 = \", vector1 + vector2) #element wise addition\n",
    "print(\"\\n Vector1 - Vector2 = \", vector1 - vector2) #element wise subtraction\n",
    "print(\"\\n Vector1 * Vector2 = \", vector1 * vector2) #element wise multiplication\n",
    "print(\"\\n Vector1 / Vector2 = \", vector1 / vector2) #element wise division\n",
    "angle = np.arccos(np.dot(vector1, vector2) / (np.linalg.norm(vector1) * np.linalg.norm(vector2))) #angle between two vectors\n",
    "print(\"\\n Angle between vector1 and vector2 = \", angle) #angle between two vectors\n"
   ]
  },
  {
   "cell_type": "code",
   "execution_count": 6,
   "id": "3949847b",
   "metadata": {},
   "outputs": [
    {
     "name": "stdout",
     "output_type": "stream",
     "text": [
      "\n",
      " Vectorized teams =  ['KKR' 'CSK' 'RCB' 'MI' 'DC' 'RR' 'GT' 'PBKS']\n"
     ]
    }
   ],
   "source": [
    "ipl_teams = np.array(['kkr','csk','rcb','mi','dc','rr','gt','pbks'])\n",
    "vectorized_teams = np.vectorize(str.upper)\n",
    "print(\"\\n Vectorized teams = \", vectorized_teams(ipl_teams)) #vectorized teams"
   ]
  }
 ],
 "metadata": {
  "kernelspec": {
   "display_name": "Python 3",
   "language": "python",
   "name": "python3"
  },
  "language_info": {
   "codemirror_mode": {
    "name": "ipython",
    "version": 3
   },
   "file_extension": ".py",
   "mimetype": "text/x-python",
   "name": "python",
   "nbconvert_exporter": "python",
   "pygments_lexer": "ipython3",
   "version": "3.12.5"
  }
 },
 "nbformat": 4,
 "nbformat_minor": 5
}
